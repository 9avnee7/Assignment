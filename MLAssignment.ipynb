{
  "cells": [
    {
      "cell_type": "markdown",
      "source": [
        "Python is a vast programming language. it containts thousands of library inbuilt function that make machine learning & data visualization a little easier task.\n",
        "Python has various data structure which are use to store and  performing various operations on a data set. Like\n",
        "\n",
        "1)List\n",
        "\n",
        "2)Dictionary\n",
        "\n",
        "3)Tuple\n",
        "\n",
        "4)Set and etc.\n",
        "\n",
        "All the data structure had various functions and operations that can be used to effectively use our data.\n",
        "\n",
        "All the data Structure can be initialized by two techniques:-\n",
        "\n",
        "1.   Constructor\n",
        "2.   Direct initialization\n",
        "\n",
        "-Constructor:-it is done by calling the  constructor of the particular data structure.\n",
        "\n",
        "eg -list(),dict(),set(),tuple()\n",
        "\n",
        "-Direct initialization:-it usually refers to the process of creating and initializing an object or variable directly in a single step.\n",
        "\n",
        " eg. - L1=[1,2,3] or L1=[]  , D1={1:\"navneet\", 2:\"sinsinwar\"} or D1={}\n",
        "\n",
        "**To create an empty set we use the set() constructor.\n",
        "If we  use curly braces {} directly, Python will interpret it as an empty dictionary, not an empty set.**\n",
        "\n",
        "Various Functions to perform operation on list are as following:-\n",
        "\n",
        "1) len() - Get the length of a list.\n",
        "\n",
        "   eg.\n",
        "\n",
        "   l1 = [1, 2, 3, 4, 5]\n",
        "\n",
        "   length = len(l1)\n",
        "\n",
        "   Return Type: Integer\n",
        "\n",
        "\n",
        "2)append() - Add an element to the end of the list.\n",
        "\n",
        "  eg.\n",
        "\n",
        "  my_list.append(42)\n",
        "\n",
        "  Input Type: List, Element\n",
        "\n",
        "  Return Type: None\n",
        "\n",
        "3)extend() -Appends elements from another iterable to the end of the list.\n",
        "\n",
        "  eg.\n",
        "\n",
        "  my_list.extend([1, 2, 3])\n",
        "\n",
        "  Input Type: List, Iterable\n",
        "\n",
        "  Return Type: None\n",
        "\n",
        "\n",
        "4)insert()-Inserts an element at a specified position in the list.\n",
        "\n",
        "  eg.\n",
        "\n",
        "  my_list.insert(1, 'apple')\n",
        "\n",
        "  Input Type:  Index, Element\n",
        "\n",
        "  Return Type: None\n",
        "\n",
        "\n",
        "5)remove()-Removes the first occurrence of a specified element from the list.\n",
        "\n",
        "eg:\n",
        "\n",
        "my_list.remove('apple')\n",
        "\n",
        "Input Type: List, Element\n",
        "\n",
        "Return Type: None\n",
        "\n",
        "\n",
        "6)pop() -Removes and returns the element at a specified index (default is the last element).\n",
        "\n",
        "eg.\n",
        "\n",
        "popped_element = my_list.pop(2)\n",
        "\n",
        "Input Type: List, Index (optional)\n",
        "\n",
        "Return Type: Element\n",
        "\n",
        "\n",
        "\n",
        "7)index():-Returns the index of the first occurrence of a specified element in the list.\n",
        "\n",
        "eg\n",
        "\n",
        "index = my_list.index('apple')\n",
        "\n",
        "Input Type: List, Element\n",
        "\n",
        "Return Type: Integer\n",
        "\n",
        "\n",
        "8)count()-Returns the number of occurrences of a specified element in the list.\n",
        "\n",
        "eg\n",
        "\n",
        "occurr = my_list.count('apple')\n",
        "\n",
        "Input Type: List, Element\n",
        "\n",
        "Return Type: Integer\n",
        "\n",
        "\n",
        "9)sort()-Sorts the elements of the list in ascending order.\n",
        "        we can also use list_name.sort(rev=True) to print it in descending order\n",
        "\n",
        "eg.\n",
        "\n",
        "my_list.sort()\n",
        "\n",
        "Input Type: List\n",
        "\n",
        "Return Type: None\n",
        "\n",
        "\n",
        "10)reverse() - Reverses the order of elements in the list.\n",
        "\n",
        "Example: my_list.reverse()\n",
        "\n",
        "Input Type: List\n",
        "\n",
        "Return Type: None\n",
        "\n",
        "\n",
        "11)copy()- Returns a shallow copy of the list.\n",
        "\n",
        "Example: copied_list = my_list.copy()\n",
        "\n",
        "Input Type: List\n",
        "\n",
        "Return Type: List\n",
        "\n",
        "\n",
        "**we can also copy a list direct by [l1=l2] but in this case reference of list is created and not a copy so changes made in a list are visible to another list as well so we use copy() function.**\n",
        "\n",
        "\n",
        "\n",
        "\n"
      ],
      "metadata": {
        "id": "SRTyPKkVtOel"
      }
    },
    {
      "cell_type": "markdown",
      "source": [
        "To plot the frequency distribution of the highest base of random strings, we can follow these steps using Python and matplotlib for visualization.\n",
        "\n",
        "-The highest base is determined by the maximum integer obtained from the random strings."
      ],
      "metadata": {
        "id": "wYcOj6aP7bXI"
      }
    },
    {
      "cell_type": "markdown",
      "source": [
        "**Import** is used to import libraries in python The **random** module in Python provides functions for generating random numbers.\n",
        "\n",
        "**matplotlib** is a widely used library for creating static, animated, and interactive visualizations in Python.\n",
        "\n"
      ],
      "metadata": {
        "id": "e2BI9YOn1qkH"
      }
    },
    {
      "cell_type": "markdown",
      "source": [
        "The zip function in Python is used to combine multiple iterable objects (like lists or tuples) into a single iterable. It takes two or more iterables as input and returns an iterator that generates tuples containing elements from the input iterables.\n",
        "\n",
        "there are 2 types of functions 1)Eager 2)Lazy\n",
        "\n",
        "1)Eager- as can be understood by its name. this type of funcitons are very eager to produce output i.e it load the data into the ram and not preferred when we are dealing with big Data\n",
        "\n",
        "2)Lazy-this type of functions are very lazy and deos not produce output. it does not load the data into ram and preferred when dealing with big data.\n",
        "eg. zip,range.\n",
        "\n",
        "-can produce output when enclosed with in certain data structures.\n",
        "\n",
        "-zip function does not provide any output as it is an lazy function.\n",
        "\n",
        "mapping_dict contain keys and values from range(0,10) mapped with each other.\n",
        "\n",
        "\n",
        "\n",
        "\n"
      ],
      "metadata": {
        "id": "diZJl8ld2ZAV"
      }
    },
    {
      "cell_type": "markdown",
      "source": [
        "**Variables used in below code and their significance**\n",
        "\n",
        "1)**mapping_dict**=This is a dictionary which will contain a keys as integer from(0 to 35) and string('0' to '9' and 'A' to 'Z')\n",
        "\n",
        "\n",
        " {0: '0',\n",
        " 1: '1',\n",
        " 2: '2',\n",
        " 3: '3',\n",
        " 4: '4',\n",
        " 5: '5',\n",
        " 6: '6',\n",
        " 7: '7',\n",
        " 8: '8',\n",
        " 9: '9',\n",
        " 10: 'A',\n",
        " 11: 'B',\n",
        " 12: 'C',\n",
        " 13: 'D',\n",
        " 14: 'E',\n",
        " 15: 'F',......}\n",
        "\n",
        " 2)sample_size=It refers to the number of individual observations or data points collected or included in a sample during a research study or statistical analysis.\n",
        "\n",
        " 3)random_numbers:- it is a list which will store random words equal to sampl_size so we can perform desires operations later.\n",
        "\n",
        " 4)blank_str:- it store the generated random string from the code and later pushed or append into the random_numbers list.\n",
        "\n",
        "5) random_digit:- this will store the random digit generated using random library between (0 to 35) so we can fetch values from the mapping_dict dictionary\n",
        "\n",
        "-A loop with a maximum of 8 iterations is used to append additional characters based on coin tosses (50% chance of breaking the loop).\n",
        "the actual output will vary each time you run the code due to the randomness introduced by the random module.\n",
        "\n",
        "\n",
        "**code Snippet**\n",
        "\n",
        "![image.png](data:image/png;base64,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)\n",
        "\n",
        "\n",
        "\n",
        "\n",
        "\n",
        "-Now we will create a reverse mapping dictionary which will have mapping_dict values as key and keys as values of name reverse_mapping_dict\n",
        "\n",
        "**code Snippet**\n",
        "\n",
        "![image.png](data:image/png;base64,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)\n",
        "\n",
        "\n",
        "-Now we will calculates the frequency distribution of the highest base in a set of random strings, with the resulting frequencies normalized by the sample size. The base_frequency dictionary will contain the highest bases as keys and their corresponding normalized frequencies as values.\n",
        "\n",
        "-Note that the (1 / sample_size) term is used to represent the relative frequency of each highest base.\n",
        "where the  sample_size is the total number of random strings in the random_numbers list.\n",
        "The division ensures that the frequency values represent proportions relative to the total sample size.\n",
        "\n",
        "\n",
        "**code Snippet**\n",
        "\n",
        "![image.png](data:image/png;base64,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\n",
        ")\n",
        "\n",
        "\n",
        "- we use matplotlib library to create a bar chart based on the frequency distribution stored in the base_frequency dictionary\n",
        "\n",
        "-plt.bar(x=base_frequency.keys(),height=base_frequency.values())\n",
        "\n",
        "\n",
        "**sample graph and population graph**\n",
        "\n",
        "**SAMPLE GRAPH**\n",
        "\n",
        "![image.png](data:image/png;base64,iVBORw0KGgoAAAANSUhEUgAAAXgAAAEZCAYAAACdNT5ZAAAAAXNSR0IArs4c6QAAAARnQU1BAACxjwv8YQUAAAAJcEhZcwAADsMAAA7DAcdvqGQAACOzSURBVHhe7d0JnE3l/wfwz2zGzGDGlqhQ+YWxRImoRLaQKGX7WVJjq5SdiCKMfcuSJUtEhRLhJ8skS/4GZSeyDkPDMDNmNTP3f7/fOXdQF/fGuHdOn/fv9fyc+zznXse5937Oc57znJvH008/bQHdZS/g/ZEvoZgXkPD7dxg+YxMSjBYionuFAU9EZFI3BPwvv/xiLBERUXZVtWpV/dNT/5+IiEyHAU9EZFIMeCIik2LAExGZFAOeiMikGPBERCbl1DTJixcvYujQoThx4gTefvtt1KlTx2jJEBsbi5EjR2Lfvn1o27YtmjZtqvUnT55EaGgoIiMj0ahRI4SEhGi9PTExMfD29oaHh4dRQ0RE17NYLEhOTkbevHntZqVtmqRTAd+rVy8UKVIE1atXR6dOnbB48WI88sgjRiswatQoxMfH49VXX9X2SZMmoXLlyvpYwr5KlSpo3749PvzwQ9SrV8941jVXr15FgwYN9EDh6cmTCyKim9m/fz+OHz+O/PnzGzXXOB3waWlpGtYrVqzQkJeQzpkzp/5p8/zzz+Pzzz9HiRIlMGXKFO3JT5s2Da+99pr2+CXgmzdvjt69e+u6NikpKUhNTdW/Qw4GS5YsQUBAgNFKRETXk6ysWbMm1q5dazcrnQ54GZ6pVasWNm7ciMDAQMycORPh4eGYMWOGsQYQHByMDRs24P7779cDwWeffYaVK1fqc6T3LyEuB4mxY8ciV65cxrOgwzfLly/X047Dhw8jIiKCAU9EdBOSpdJJloD39/c3aq9x+k5WCdz09HR9YREXF4c8efLoso38RTLMIq5cuaLt8vijjz7CrFmzEBYWhqCgIEyePFnXsenbty82bdqkBwI5ABAR0Z1zOOBlOEaGXg4ePIjLly9rWMspwpkzZ3Du3Dldp0KFCjouJGPoa9asQe3atfVUQnr/vr6+8PHxQY4cOTT8ryfj7XJhVQrH3omI7g6n0vSDDz7QC6mvvPIKKlWqhLp16+pY+xdffKHtPXr00KGbxo0b68B/q1at9MDQp08f9OzZE02aNMHp06fRtWtXXZ+IiLKOW/2apPT2X3rpJV5kJSK6hbs+Bk9ERNkLA56IyKQY8EREJsWAJyIyKQY8EVEWe2POdrtlzI+HjTWyBgOeiCiL/XQ4ym7ZExFjrJE1GPBERCbFgCciMikGPBGRSTHgiYhMigFPRGRSDHgiIpNiwBMRmRQDnojIpBjwREQmxYAnIjIpBjwRkUkx4ImITIoBT0RkUgx4IiKTYsATEZkUA56I6BaOX4jHwchYu8XdMeCJiG7h3YW7UH/iJrvF3TkV8Pv370f9+vVRsWJFjB07FmlpaUZLhmPHjuGVV15BhQoVMHDgQKSkpGh9mTJltJQqVQp+fn5YtmyZ1hMRUdZxKuA/+eQTdO/eHWvWrMHatWsRFhZmtGSQ0G/dujXWrVuHI0eOYPHixVq/c+dOLd9//z0qV66MevXqab2NHAgSEhKQmJj4t4MGERH9Mw4HfHJyMg4cOIAnnngC9913H+rUqaNBf73t27fjqaeeQoECBfDyyy9j5cqVWp8zZ04te/bsQe3atbUXf71hw4bp86pUqYJffvnFqCUiojvhcMBfuXIFnp6e8PHx0cd58uRBTMyN/8HY+Ph45MiRQ5dz5879t/bZs2frEM9fDRo0CL/99ht27dqFatWqGbVERHQnHA74wMBAeHh46DCKOHv2LIoUKaLLNvnz59ehFhEZGXlD+7Zt2xAdHY3SpUsbNdd4eXnpgcPb21sPIkRE2UWjTzejeL+VdourOZymEr7PPfecjqPv3bsXq1evRrNmzfSC6Y8//qjr1K1bF0uWLMGhQ4ewcOFCtGnTRuvT09Mxffp0tG3bFgEBAVpHRERZy6nussyM2bJlCzp16oT+/fsjODhYL6aeOHFC27t27Yrjx4/jjTfewFtvvYXq1atr/aVLl3SIp3379vqYiMgd/G/fObs9bykHzrr/PPfbcSrgCxYsiC+++AJbt27Vi6iid+/e6Nixoy4HBQVh2rRpOhxj670LGbqRGTX+/v5GDRERZTUOeBMRmRQDnojIpBjwREQmxYAnIjIpBjwRkUkx4ImITIoBT0RkUgx4IiKTYsATkWkdi4q/aUlJTTfWMi8GPBGZ1gtjf7ppkf8Un9kx4ImITIoBT0RkUgx4IiKTYsATEZkUA56IyKQY8EREJsWAJyIyKQY8EZFJMeCJiEyKAU9EZFIMeCIik2LAExGZlFMBn5aWhnPnzuHUqVO4cuWKUXtNeno6zp8/r+2xsbFGLWCxWHDp0iWtP3PmjL4OERFlLacCfvHixejfvz9mzJiBN998E/HxN/4a29q1a9GzZ0/Mnj0brVu3RlRUlNbv2LEDvXv3xqJFizBv3jwNeyIiyloOB7z0wqdPn44PPvgAQ4cOha+vL7755hujNcNnn32mQf7xxx+jVKlSur4YMWIE2rVrp6H/7rvvokCBAlpvc/bsWezfv19LXFycUUtERHfC4YCX4I2Ojs4M5ypVqmDXrl26bHP8+PG/tUsvf8OGDZg7dy4+//xztGnTBidPntR1bH7//Xf8/PPP2LRpE3v3RER3icMBL+PmHh4eWoSPjw+uXr2qyzapqanw9Mx4SW9vb21PSUnRdbt164ZBgwbhqaeeyuzZ29SoUQNdunRB586dUbRoUaOWiIjuhMMBHxgYiICAAFy+fFkf79mzB2XKlNFlGwlnWw987969KFu2rD6vWLFi8PLy0no/Pz8NfSIiyloOB7z0zJs2bYpJkybh66+/Rnh4uA63hIaGYurUqbpOq1atMG7cOHz33XdYtmyZ9srleW+88Yaus2rVKr1QKxdoiYgoazkc8EKGUGrVqqVDLwsXLkRQUJA+rlatmra//vrraNasmU6hlNkytuGWt956Cy+99JKO4c+cORPBwcFaT0REWcepgPf390fDhg11NkyJEiW0rnLlyqhQoYIuy8yaunXras/++uGbnDlz4sUXX9TnlStXzqglIqKs5FTAExFR9sGAJyIyKQY8EZFJMeCJiEyKAU9EZFIMeCIik2LAExGZFAOeiMikGPBERCbFgCciMikGPBGRSTHgiYhMigFPRGRSDHgiIpNiwBMRmRQDnojIpBjwREQmxYAnIjIpBjwRkUkx4Iko2yreb6Xd8s7CXcYa/24MeCIik3Iq4NPT0xEbG4tLly4hOTnZqL3GYrEgLi5O25OSkoxaaF10dLQWeT4REWU9pwL+u+++Q9euXTF06FCEhIQgISHBaMkQFhaGzp07IzQ0FK1bt8aFCxe0vn379hg4cCCmTZuGxYsXax0REWUtpwJ+ypQp+PDDDzF27Fjtzf81rCdPnozevXtj1KhRKFasGGbOnKn1OXPmRLNmzfTg0K5dO627nvT8ry9ERHTnHA54GWa5ePEi8ufPr4+ffvpp7Ny5U5dtjh07hoIFC+py1apVsWPHDl1+7LHH8OOPP6Jfv37o27fv30J84cKFePvtt/Huu+/iwIEDRi0REd0JhwP+6tWr8PDwgJeXlz729fX92zi8rOPpmfGSOXLkyGwfNGgQhg0bhvHjx+PXX39FeHi41ts0bdpUe/0jRoxAyZIljVoi+jeLS0pFTOJVu4Uc43DABwUFwd/fH5cvX9bH+/btQ3BwsC7bPPTQQ5nt+/fv/1u7t7f3Da9hI0M4uXPn1iLrEBE1mrwZjw/+0W4hxzgc8NIzb9y4sY6zL1++HBs3bkTbtm211y0XT0Xz5s21l75mzRosWrRIh10SExMxZMgQHa6RMfnIyEjUrFlT1yeif6/qo8LszmGXQneHwwEvZIz8qaeewpkzZ/DVV18hb968qFatGp588kltb9GiBRo0aIA//vgDc+fORfHixXWoplSpUti2bRty5cqlBwcfHx9dn4iIso5TAR8QEKCzYbp06YLSpUtrXfXq1VG5cmVd9vPzQ5MmTbTn/sQTT2idjNnLc+TgIFMnH3jgAa0nIqKs5VTAExFR9sGAJyIyKQY8EZFJMeCJiEyKAU9EZFIMeCIik2LAExGZFAOeiMikGPBERCbFgCciMikGPBE5LXT1oZsW/pyv+2DAE5HTpm/846blSnKqsRa5GgOeiO66vRExGGHtzdsr7OHfOwx4IrrrDp2Lw2fW3ry9EsuAv2cY8EREJsWAJyIyKQY8EZFJMeCJiEyKAU9EZFIMeCIik2LAExGZFAOeiMiknAr4uLg4zJo1C8OHD8dvv/1m1F6TkJCA+fPnY+jQodi6datRe83ChQvx/fffG4+IiCgrORXw48aNwx9//IEqVaqgRYsWiI6ONloySLhv2bIFNWrUwJtvvomjR48aLcDmzZsRGhqKDRs2GDVERJSVHA749PR0rF69Gl26dEGtWrVQv359zJ0712jNsHTpUnTr1g3PPvusBvy0adO0PjIyEgsWLMCkSZPg4eGhdddLTU1FcnKylrS0NKOWiIjuhMMBf+nSJSQlJSEwMFAfBwcH49ChQ7psExERgaCgIF0uXbp0ZvvEiRMREhKS2fZX77zzDgICApAnTx6sW7fOqCUiojvhcMD7+vrCYrFk9rATExPh5+enyzayjvTGhRwMpF2GbBYvXoxly5Zh+vTp2LZtGxYtWqTr2EyZMgXx8fGIjY1FnTp1jFoiIroTDgd8rly5ULBgQURFRWnQy0XUypUr67IUUaJECfz555+6LMEu7eXKldMLqzJmX7t2bTz22GN45plndB0bb29vPThI8fR06rIAERHdhFNp2r17dwwZMgSdO3fW4ZRXX30VH3/8McaPH6/t77//PkaPHq3j9BcuXECHDh10vbJly2p59NFHkS9fPhQtWlTXJyKirONUwDds2BBffvmlDrXMmDFDh2AGDx6MHj16aLtcXJXhF7m4KhdV8+bNq/U2FStWxIQJE4xHROQKcr4tJ932CpkLx0OI/mUqDV2Lhz9YabeQuTDgiYhMigFPRGRSDHgiIpNiwBPR3xTvt9Ju6bt0j7EGZQcMeCIik2LAExGZFAOeiMikGPBEJlPxk7V2x8+l0L8LA56IyKQY8EREJsWAJyIyKQY8EZFJMeCJiEyKAU9EZFIMeCIik2LAExGZFAOeiMikGPBERCbFgCciMikGPBGRSTHgiYhMigFPRGRSTgV8ZGQk6tatiwcffBCLFi0yaq+5ePEimjZtiiJFimDy5MlGLdCzZ099zn/+8x+7zyMiorvPqYD/6KOP0LZtW4SFhWHq1KnYuXOn0ZJh7NixqFWrFrZs2YIffvgBq1ev1vp27dphx44dWLlyJcaNG4fjx49rPRERZR2HAz41NRXbtm3THrz0xBs2bIilS5carRkk+KX+4YcfRsuWLfHVV19pffny5XH//ffDz88PFosFQUFBWm+TlJSEuLg4LfL3EBHRnXM44GNiYuDp6QlfX199nD9/fly4cEGXbWQdW3u+fPky2xMSEhAaGooePXqgSpUqGvTXW7ZsGQYMGICBAwfiyJEjRi0REd0JhwM+T548SEtLQ0pKij6+fPmyhvj1cufOndkuYW9r9/f3R79+/XT8XcL+rz3/Fi1aYOLEiRg/fjxKlSpl1BLRX83fdhLBg9bYLZcTrhprEWVwOOB9fHzw5JNPYtOmTTh58qSOr7/88svYvn07du/eres899xz2LBhA86cOYMlS5boBVcZcgkPD9cDwqlTpxAREYGCBQvq+tfz8PDILERkX2paOhJSUu0Wi/V/RNdz6iLr4MGD8emnn6JatWpo1aoVqlatisWLF+vFU9G7d2/tnVeqVEnXkQNAeno6Bg0apD3zxo0bo3Xr1qhdu7auT0REWcepgC9WrJheSJUeekhIiPa2R48ejf79+2t7oUKFsGLFCp1O2adPHx2zz5Ejh/b2z58/j7179+qMGqknIqKsxaQlIjIpBjwRkUkx4ImITIoBT+RGZm06juL9VtotsYmcBknOYcATEZkUA57oLpm39QRmbz5utxC5AgOe6C4ZvuoghvxwwG4hcgUGPNE9ZG9sXcqwlQeNNYjuHgY8EZFJMeCJiEyKAU9EZFIMeCIik2LAExGZFAOeiMikGPBERCbFgCciMikGPBGRSTHgiYhMigFPRGRSDHgiq71nYrBg20m7xWIxViLKZhjwRFZhh/7Eh8v22S1pTHjKphjwREQmxYAnIjIppwJ+w4YNaNasGVq0aIHu3bsjOTnZaMkQHh6u7S1btkSHDh0QGxur67z55pto164d2rRpg9DQUGNtIiLKSk4F/JgxY9C/f3/MmzcPp06dwvLly42WDBMmTMD777+v7V5eXpg7dy5y5MiBcePGYdasWdq+YsUKREVFGc8gIqKs4nDAJyQkICIiAg899BB8fX1RvXp1bN261WjNcPDgQRQrVkxDvWbNmti8eTM8PDwQFBQEHx8ffQ15bp48eYxnZFi/fj0mTpyISZMm4cSJE0YtERHdCYcDPjExEZ6envD29tbH/v7+iI+P12WbpKSkm7anpaWhR48e2sOXkL9e2bJlUb9+fbz44osoWLCgUUvkXp4ZsQFVhq+3W4jckcMBL71w6ZnHxcXp4yNHjqBEiRK6bFO4cGEddxdHjx7NbL906RI6duyIGjVqoFGjRlp3vUKFCuGxxx7TEhAQYNQSuZfzcUk4H2u/ELkjhwNextTr1q2LOXPm6NDL6tWr9aLp1KlTMX/+fF2nSZMmmD59OrZv367j8BLq0nMPCQlBhQoV8NprryE6Ohqpqam6PhERZR2nLrL26tVLh1eWLFmCGTNmaI9dhlTy5cun7e3bt9cx+AULFugF2TJlyugwTf78+bF3714MHDgQAwYMwNmzZ3V9IiLKOk4FvAzT9OnTR2fDVK1aVetef/11NGzYUJdz5cqF9957Ty+W1q5dW+vkgqocDK4vRYsW1TYiIso6TgU8kTtKTbegeL+VdsvE9UeMtYj+fRjw9K8wa9MxVA1db7ek87dmyKQY8PSvEJeUisiYJLuFyKwY8EREJsWAJyIyKQY8EZFJMeCJiEyKAU9EZFIMeCIik2LAExGZFAOe3J69O1SlPNp/lbEGEdnDgCciMikGPGWpYasO2u19SyGirMWAJyIyKQY8EZFJMeDpjkzecBTPjw6zW4jItRjwdEcuJaTg5MUEu4WIXIsBTy73/Oif7JY64zYaaxDRP8GAJ5c7eTHefonmWQDRnWDAExGZFAOeiMikGPBERCblVMAnJiZi3bp1WLp0KY4fP27UXpOcnIyNGzdiyZIlOHz4sFELHDlyBMuXL8eqVatw9epVo5aIiLKSUwE/c+ZMrFixAvHx8fjvf/+L2NhYoyXDt99+i3nz5mmIt23bFqdPn9b6n376Cbt370a/fv30IEFERFnP4YBPT0/HN998g27duml4P/7445g/f77RmmHBggXo2bMnWrZsiQYNGmDatGla36FDB3Ts2FGX7dmyZQtmz56NOXPmICIiwqglV7ualo7lu8/aLcei4o21iMhdORzwMTExuHLlCvLmzauPJeD37dunyzanTp1Cvnz5dLlChQp/a7+ZBx98EOXLl9eSO3duo5ZcLT45De8t+tVu+enwn8ZaROSuHA54Ly8vWCwWLSItLU3rrufp6ak9fWGv/WaKFSuGSpUq4cknn0RgYKBRS0REd8LhgJeetfTeL168qI/Dw8NRsWJFXbZ5+OGHb2h/4okndJmIiO49hwPew8MDISEhGDlyJD755BMdsmnevDmGDBmCSZMm6Toyzj5mzBiEhoZiz549mePumzZtwuTJkxEVFYUJEyboBVdyPXu/0S6l4pC1xhpElJ05HPCiRYsWGDBgAJo1a4a5c+ciV65c6NSpE1q1aqXt9erVw9ChQ/Hqq6/qBdhChQppfalSpfTC6/r16/Haa6/pkAwREWUtpwLe29sbxYsXR8mSJTPHyiXECxQooMsy5l60aFFtt11sFQULFkRwcHBmCQoKMlqIiCirOBXw5D7Gr/0ddcf/bLcQEQkGfDZ1Pi4Zv5+Ps1tsVu2NtFvWHTxvrEFEZsaAN7G3v9xlt/RdusdYg4jMjAFPRGRSDHgiIpNiwLupvWdisHrfObuFiMgRDHg3Nf+Xk+iyYKfdQkTkCAY8EZFJMeCJiEyKAU9EZFIMeCIik2LAu8Dp6AS7v+Io5ZsdGf+ZQyKiO8WA/wcaTNxkt4TM22GsQUTkegz4f+BAZKzdcuTPK8YaRESux4AnIjIpBnwWsDe2LuW5UWHGGkREWY8BT0RkUgx4IiKTYsATEZkUA56IyKT+dQE/YvUhNJq82W4Ro/532G6bFCKi7ORfF/AnoxOwNyLGbhGnouPttkkhIspOnAr4CxcuoFOnTqhduzZWrVpl1F4TExOD7t2744UXXsCiRYuMWuD8+fNo164d6tati40bNxq1RESUlZwK+KFDh6JcuXIYM2YMPv74Yxw+fNhoyTBlyhQUKFAAn376qS5v2bJF63v16oUaNWro8/v06YPIyEitt0lPT0dqaqqW65edLXtPR6NYn+V2yw+/Reg6ljRrSU+zW6Q9Pc1+mxTb32OvLaPcpt362voat9iGNGOd9Ntu563bHdkOu21Gud1rXNtO++1SHGm/1d8h5Vbt1he/7WukG+232w7599hrk2L7O6wfTrvtUm61DVJsr2GvTUqa9f2U9lu+r9a2W21nmvF3WFey2y5Ft+FO3hPrc2/Zbi3SLv8ee21S5N/hyGvcyXbK++3I33Gr7bS9J/babEXa0+3U24q03/I1jO38J8VisWi5FY+nn346c41ffvnFWPo7ecHKlStj5cqVKFy4MD766CN4eXlh0KBBxhpA9erVMWfOHDz66KP47LPP8Ouvv2LYsGGoVasWwsLCkDdvXrz33nsoU6YMOnfubDwr48CxbNky3dijR4/ikUce0dd2VtLVtJv+XEDRfP4I9PPBqegExCReNWpvVO6BwNu2C/nP6dmTw8sTJe/Pfdv2lNR0HD4fZ9Te6MEgP+QNyIGIS4m4lJBi1N5ItuOMtT36Fu3iZtvh7emB0oXz3LTdy9oebG1PS7foTzDYUzgwJwrk8kVkTCIuXLn5dkTGJFnbk42aG91uOz2spax1ndu1y2d831n76xTK7Yv78uTE+dgk/BlnfzvkNaKs7edv1l4kEB7Wv2yfdTtu9nWSf8t+a3u68fivbvdvlX0p+1T2lewze+Q9kc/ErdrlvTtofc9Sre+dPbIdt2sXN9vOfP458EBev5u2C/mMxyen6mfYnpKFciOHtycOn4tDSpr9PSbb8bv1O5Js/a7Yc7vtlO+6fOdvtZ3/uS+Xfhdl2NaeEtZ2Px8vHLVmSqI1W+yR7bhdu7jZduT29UbxAgHGI8dJVv7+++84ceIE8ufPb9ReU7VqVf3T4YC/ePGiBrUMsQQGBmLmzJkIDw/HjBkzjDWsH7DgYGzYsAH3338/VqxYoSE/evRotGnTBlu3boWvry+GDx+O+Ph4DX6blJQUPYCIhIQE+Pn5Wb9Q8vW1T3oxr7/+OubPn4+AAOd3zr0iZyPt27fXs5lcuXIZte5HPixdu3ZFaGgocufObdS6pw8++EBLnjx5jBr3JPvyrbfewn333WfUuCc5265fvz5KlChh1LinefPm4fHHH0eFChWMGve0dOlSFCxYUDu7WS0pKUk7zfay0hbwkIC3lVtJTEy0lCtXzhIVFaWPx4wZY+nVq5cu21SqVMly6tQpXf7yyy8tLVu2tJw+fdpSvnx5S1xcnNZbv5yWkSNH6vI/ZT0YWBo0aGC5cuWKUeOerAciS4sWLTL/7e7KeiCydOzY0RIbG2vUuK+ePXtaYmJijEfua/DgwZbz588bj9zXuHHjLNaeoPHIfc2aNcuyc+dO45H7+vrrry1hYWHGI9exZbrDY/A5c+ZEqVKlsGfPHr3Yun79er3YeuzYMVhDXdexBrwOy1y6dEkvwr744ot44IEH9Igmz5OLrf/3f/+nZwJ3Qo5YRYoUuWUv310UKlQInp7uP1lJ3qPssJ1yjSc7bGe+fPn+0TDjvRYUFIQcOXIYj9yXnLHJCIC7kzNgGYFwFw4P0Yjdu3fr6bEM17zyyit68fTDDz/U04S+ffviyJEjehH1zJkzGuJyIVbelO3bt+t61h4iWrdujXfeeeeOw1m2Qb5E7h7y0dHRNz2NcidyUJYvu7tvp8zUki+7u2+nfNZlWM7dD0bWs2DtvHl7exs17kmGdeVA5OPjY9S4p8TERH3PXX0wcnoMnoiIsgdbwLv/uS4REf0jDHgiIpPKlgF/+fJlnU8vd8YuX77cqHUvMp20WrVqWmTK1M8//2y0uJ5MSZVpri+99BJGjhxp1GaMH8p+lesn33//vVHrOhaLBXPnzkWjRo0wePBgoxYYMmRI5r5t1qyZUetaci+HTDqQO7Zl4oGNDHs2aNBArz3JJANXGzFihH5vZOryoUOHjFqgefPmmftU9q+rTZw4EfXq1UOTJk2wZs0arbt69ape95PP5xdffKHTpV1t6tSpOs305Zdf1qnhYtSoUZn7Uq5V/vXGznvKNp1GSnbRu3dvi3UnWnbv3m2pWrWq5eDBg0aL+1i6dKnF+gG1REdHa0lJSTFaXE+2xRrglh9++EGnR9p06NDBMnz4cMuBAwcs1i+RTnF1JZm+af3S6LQza0AatRaLNUQtc+bM0f1qPdgbta41bdo0y/Hjx/V9L1y4sE45tQaSxfrlt2zfvt0yf/58nWYs041dafLkyZajR4/qfi1atGjm/rMGqeXEiRO6T91h+vG2bdt0e8LDwy3FihWzWA9Glk6dOunUbFmW7ZXvv6vJdsr7/uuvv1pKliyp3x3ZzvHjx2d+PmW69L1my/Rs14OXo7bcTduiRQuUL19ee3fWL4/R6l727t2rN7vI3b22G7ncgcxEkB6H3JlsI7NTvvvuO7Rt2xalS5dGnTp19OYSV5KZMnKWkXnThsH6+dWe09tvv63Tct2B3JldvHhx7V3KjKS4uDjdNms46fRh+bzKjBWZLuxKMoNN7jR//vnn9aZC2U5x9uxZWA/wegOi3HjoalWqVNF9J9OhZYaPnLX/73//09l61iDV/Sk54GqynfK+y3bKLB/brCnJpC5dumDTpk362FWyXcBLEElY2u5glR1rm4fvTuSOu8WLF+vQgnypZ8+ebbS4J5l2KnfeylRJIfPirx9qcCdyd7DsTwkrmYor92W4CzmYyzCNfC5l/9mmyEpIPfTQQ26zrV9++aUOHzz44IP6WIZurGchut1y8Hd1yMvBsFWrVmjcuDFatmypn0s5sMt9EEL2qxyUXE0OktKJk46IDNXIQUmGv+Rz8O6772LChAk6vdxVsl3AS7BLEMl4nJAPgvx0gruR39ORMTj5cTYJ+Z07dxot7kn2q3yBkpMzfo9FPrjyJXJH8sN1ZcuWxbPPPouaNWti9erVRotrTZo0CX/88Qesp+f6WO7TkNvJbaRn7+/vbzxyHfkJEfk8jh071qiB7kfp2cuZiNzPIr9x4kpyD4GEpPTa9+/fj7Vr1+r33rY/5QDkDj+rIe+nnE3KdkZERODbb7/FM888o6ML8vmUzojcB+Qq2S7g5QYC6R3/9ttv+oWRHzGTizHu5ty5c3paKafA8mWy9YzdhVxQlYOjHCjlT/nBIhmakYuCcpYkdxxLT87V5Att207Zl/Kn/CCd1MlZhwSqBJOryW8yyZCB/Pie3MEqB0s5wEsvPioqSofr5CKr/F6TK8mwm/ywnwzFyHdJtlP2sVwIlM+EhKnUy8HJlU6fPq3Dsbbtk++PvM9yIVNuItu8efM9+b2X25HRA9t2SudItlWCXj6f0dHR2LVrl54VuUq2vNFJPoRyR62c7kq4DxgwwO3uxJs+fXrmb+LLGJ38+ubDDz+sj11NhrjkjuN169bpaa780JTMWpAvkcxSkP0qMz9kv7ryTkz50sgd0BKc8kWS/SczFCZPnqyhKbeEy/vfo0cPl98xKvtOhmBsPXQJUvlpj88//1x7ojI+269fP53B4kpyVia/Bmvr/c6aNUvrQkJC9AAqP60hQwvy33RwJZl1JGcRcmYp1wu6deumByF5r//880/tJctsH1efEck1KzmIy3Y899xzOu4uZ+zSAZUDpfTi5Tt1r39skHeyEhGZFO9kJSIyOQY8EZFJMeCJiEyKAU9EZFIMeCIik2LAExGZFAOeiMikbpgHT0RE5sEePBGRKQH/D7YhJ+6/2c3OAAAAAElFTkSuQmCC)\n",
        "\n",
        "\n",
        "**POPULATION GRAPH**\n",
        "\n",
        "![image.png](data:image/png;base64,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)\n",
        "\n"
      ],
      "metadata": {
        "id": "z3mU7s_SJxGz"
      }
    },
    {
      "cell_type": "markdown",
      "source": [
        "**Population Graph vs Sample Graph**\n",
        "\n",
        "-**A population graph** represents the entire dataset, providing a comprehensive view of the characteristics of the entire population.\n",
        "\n",
        "**population graph stability**\n",
        "\n",
        "-The stability of a population graph refers to the consistency or lack of significant changes in the characteristics of a population over time. Stability can be assessed by examining the shape, structure, and key features of the population graph across different time periods\n",
        "\n",
        "-**A sample graph** represents a subset of the population, offering insights into the characteristics of that subset. It is used when it's impractical to analyze the entire population.\n",
        "\n",
        "probability of occurance of any event x is the limiting case of relative frequency as the sample size approches infinity.\n",
        "\n",
        "probabilty(X)=lim s->oo (frequency(x)/s)\n",
        "s=sample_size"
      ],
      "metadata": {
        "id": "fYKi0ztH8lit"
      }
    },
    {
      "cell_type": "code",
      "execution_count": null,
      "metadata": {
        "id": "HXyQVjn5VCFT"
      },
      "outputs": [],
      "source": [
        "\n",
        "import random\n",
        "import matplotlib.pyplot as plt"
      ]
    },
    {
      "cell_type": "code",
      "execution_count": null,
      "metadata": {
        "id": "3vAeQvqxYQQc"
      },
      "outputs": [],
      "source": [
        "mapping_dict = dict(zip(range(0,10),range(0,10)))"
      ]
    },
    {
      "cell_type": "code",
      "execution_count": null,
      "metadata": {
        "colab": {
          "base_uri": "https://localhost:8080/"
        },
        "id": "oBzWrsy2nsoC",
        "outputId": "fde9d8e9-c372-490e-968b-c1b2697b4b41"
      },
      "outputs": [
        {
          "output_type": "execute_result",
          "data": {
            "text/plain": [
              "{0: 0, 1: 1, 2: 2, 3: 3, 4: 4, 5: 5, 6: 6, 7: 7, 8: 8, 9: 9}"
            ]
          },
          "metadata": {},
          "execution_count": 3
        }
      ],
      "source": [
        "mapping_dict"
      ]
    },
    {
      "cell_type": "code",
      "execution_count": null,
      "metadata": {
        "id": "ghEVfaoApjSN"
      },
      "outputs": [],
      "source": [
        "for k in mapping_dict.keys():\n",
        "\n",
        "  mapping_dict[k] = str(mapping_dict[k])"
      ]
    },
    {
      "cell_type": "code",
      "execution_count": null,
      "metadata": {
        "colab": {
          "base_uri": "https://localhost:8080/"
        },
        "id": "VKAyIsW6q_qS",
        "outputId": "88485ce7-89cd-4868-ec80-dff9c39e56a1"
      },
      "outputs": [
        {
          "output_type": "execute_result",
          "data": {
            "text/plain": [
              "{0: '0',\n",
              " 1: '1',\n",
              " 2: '2',\n",
              " 3: '3',\n",
              " 4: '4',\n",
              " 5: '5',\n",
              " 6: '6',\n",
              " 7: '7',\n",
              " 8: '8',\n",
              " 9: '9'}"
            ]
          },
          "metadata": {},
          "execution_count": 5
        }
      ],
      "source": [
        "mapping_dict"
      ]
    },
    {
      "cell_type": "code",
      "execution_count": null,
      "metadata": {
        "id": "GowosEpVrXfK"
      },
      "outputs": [],
      "source": [
        "for i in range(0,26):\n",
        "  mapping_dict[10+i]= chr(65+i)"
      ]
    },
    {
      "cell_type": "code",
      "execution_count": null,
      "metadata": {
        "colab": {
          "base_uri": "https://localhost:8080/"
        },
        "id": "beprdUCauVOp",
        "outputId": "a7463f3e-69e7-44c8-cf30-455c221b63e4"
      },
      "outputs": [
        {
          "output_type": "execute_result",
          "data": {
            "text/plain": [
              "{0: '0',\n",
              " 1: '1',\n",
              " 2: '2',\n",
              " 3: '3',\n",
              " 4: '4',\n",
              " 5: '5',\n",
              " 6: '6',\n",
              " 7: '7',\n",
              " 8: '8',\n",
              " 9: '9',\n",
              " 10: 'A',\n",
              " 11: 'B',\n",
              " 12: 'C',\n",
              " 13: 'D',\n",
              " 14: 'E',\n",
              " 15: 'F',\n",
              " 16: 'G',\n",
              " 17: 'H',\n",
              " 18: 'I',\n",
              " 19: 'J',\n",
              " 20: 'K',\n",
              " 21: 'L',\n",
              " 22: 'M',\n",
              " 23: 'N',\n",
              " 24: 'O',\n",
              " 25: 'P',\n",
              " 26: 'Q',\n",
              " 27: 'R',\n",
              " 28: 'S',\n",
              " 29: 'T',\n",
              " 30: 'U',\n",
              " 31: 'V',\n",
              " 32: 'W',\n",
              " 33: 'X',\n",
              " 34: 'Y',\n",
              " 35: 'Z'}"
            ]
          },
          "metadata": {},
          "execution_count": 7
        }
      ],
      "source": [
        "mapping_dict"
      ]
    },
    {
      "cell_type": "code",
      "execution_count": null,
      "metadata": {
        "id": "KPGkS2NXVMGn"
      },
      "outputs": [],
      "source": [
        "sample_size = 5000000 # Here sample_size deines the sample size  to be taken for calculation\n",
        "\n",
        "random_numbers = list()#a list named random_numbers is created which will store random numbers that will be generated.\n",
        "\n",
        "for i in range(0,sample_size):\n",
        "\n",
        "  blank_str = str() #blank string to store generated string and later will be appended in tha random_numbers\n",
        "\n",
        "  #generating a random string based on a mapping dictionary and some specific rules.\n",
        "  random_digit = random.randint(0,35)\n",
        "  blank_str = blank_str + mapping_dict[random_digit]\n",
        "\n",
        "  random_digit = random.randint(0,35)\n",
        "  blank_str = blank_str + mapping_dict[random_digit]\n",
        "  #A loop with a maximum of 8 iterations is used to append additional characters based on coin tosses (50% chance of breaking the loop).\n",
        "  #the actual output will vary each time you run the code due to the randomness introduced by the random module.\n",
        "  for i in range(0,8):\n",
        "    coin_toss = random.randint(0,1)\n",
        "\n",
        "    if coin_toss == 1:\n",
        "\n",
        "      random_digit = random.randint(0,35)\n",
        "      blank_str = blank_str + mapping_dict[random_digit]\n",
        "\n",
        "    else:\n",
        "      break\n",
        "\n",
        "  random_numbers.append(blank_str)#appending random string to the list randome_numbers"
      ]
    },
    {
      "cell_type": "code",
      "execution_count": null,
      "metadata": {
        "id": "Q2nV3-Jgv-GR"
      },
      "outputs": [],
      "source": [
        "#we are now suppose to find out the base of string to do that we have to create a reverse dictionary in which keys are character and value are indexes\n",
        "reverse_mapping_dict = dict()\n",
        "\n",
        "for k in mapping_dict.keys():\n",
        "  reverse_mapping_dict[mapping_dict[k]] = k"
      ]
    },
    {
      "cell_type": "code",
      "execution_count": null,
      "metadata": {
        "id": "ba745hqvyubF"
      },
      "outputs": [],
      "source": [
        "base_frequency = dict()\n",
        "\n",
        "for blank_str in random_numbers:\n",
        "  highest_digit = max(blank_str)\n",
        "  highest_base = reverse_mapping_dict[highest_digit] + 1\n",
        "\n",
        "  if highest_base in base_frequency.keys():\n",
        "    base_frequency[highest_base] += 1/sample_size\n",
        "  else:\n",
        "    base_frequency[highest_base] = (1/sample_size)\n",
        "\n"
      ]
    },
    {
      "cell_type": "code",
      "source": [
        "plt.bar(x=base_frequency.keys(),height=base_frequency.values())"
      ],
      "metadata": {
        "id": "-l1684dtbW5s",
        "colab": {
          "base_uri": "https://localhost:8080/",
          "height": 447
        },
        "outputId": "fa87f1f7-3a75-44e2-da79-e253750dc801"
      },
      "execution_count": null,
      "outputs": [
        {
          "output_type": "execute_result",
          "data": {
            "text/plain": [
              "<BarContainer object of 36 artists>"
            ]
          },
          "metadata": {},
          "execution_count": 11
        },
        {
          "output_type": "display_data",
          "data": {
            "text/plain": [
              "<Figure size 640x480 with 1 Axes>"
            ],
            "image/png": "[encoded data removed]"
          },
          "metadata": {}
        }
      ]
    },
    {
      "cell_type": "code",
      "source": [],
      "metadata": {
        "id": "tKdr0XgvRsqo"
      },
      "execution_count": null,
      "outputs": []
    },
    {
      "cell_type": "code",
      "source": [],
      "metadata": {
        "id": "ONoo9tax8kiJ"
      },
      "execution_count": null,
      "outputs": []
    },
    {
      "cell_type": "code",
      "source": [],
      "metadata": {
        "id": "1Tofc60-WSDf"
      },
      "execution_count": null,
      "outputs": []
    },
    {
      "cell_type": "markdown",
      "source": [],
      "metadata": {
        "id": "TFyuoQ2XaX28"
      }
    }
  ],
  "metadata": {
    "colab": {
      "provenance": []
    },
    "kernelspec": {
      "display_name": "Python 3",
      "name": "python3"
    },
    "language_info": {
      "name": "python"
    }
  },
  "nbformat": 4,
  "nbformat_minor": 0
}